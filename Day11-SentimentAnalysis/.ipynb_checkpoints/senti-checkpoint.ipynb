{
 "cells": [
  {
   "cell_type": "code",
   "execution_count": 9,
   "metadata": {
    "colab": {
     "base_uri": "https://localhost:8080/",
     "height": 122
    },
    "colab_type": "code",
    "executionInfo": {
     "elapsed": 25894,
     "status": "ok",
     "timestamp": 1551764936465,
     "user": {
      "displayName": "Subhaditya Mukherjee",
      "photoUrl": "https://lh4.googleusercontent.com/-EOiGHS0mMdM/AAAAAAAAAAI/AAAAAAABc74/x8-bxB0NQpc/s64/photo.jpg",
      "userId": "10930596869852951720"
     },
     "user_tz": -330
    },
    "id": "qcTD9ffo1fOp",
    "outputId": "0e89baf6-dd68-495c-a7c6-ba14ca3c9fdf"
   },
   "outputs": [
    {
     "name": "stdout",
     "output_type": "stream",
     "text": [
      "Go to this URL in a browser: https://accounts.google.com/o/oauth2/auth?client_id=947318989803-6bn6qk8qdgf4n4g3pfee6491hc0brc4i.apps.googleusercontent.com&redirect_uri=urn%3Aietf%3Awg%3Aoauth%3A2.0%3Aoob&scope=email%20https%3A%2F%2Fwww.googleapis.com%2Fauth%2Fdocs.test%20https%3A%2F%2Fwww.googleapis.com%2Fauth%2Fdrive%20https%3A%2F%2Fwww.googleapis.com%2Fauth%2Fdrive.photos.readonly%20https%3A%2F%2Fwww.googleapis.com%2Fauth%2Fpeopleapi.readonly&response_type=code\n",
      "\n",
      "Enter your authorization code:\n",
      "··········\n",
      "Mounted at /gdrive\n"
     ]
    }
   ],
   "source": [
    "from google.colab import drive\n",
    "# with open('/gdrive/ColabML', 'w') as f:\n",
    "#   f.write('Hello Google Drive!')\n",
    "drive.mount('/gdrive')"
   ]
  },
  {
   "cell_type": "code",
   "execution_count": 0,
   "metadata": {
    "colab": {},
    "colab_type": "code",
    "id": "0o_7tc2X2YJe"
   },
   "outputs": [],
   "source": [
    "import re\n",
    "import numpy as np\n",
    "from sklearn.externals import joblib\n",
    "from nltk.corpus import stopwords\n",
    "from nltk.stem.porter import PorterStemmer\n",
    "from sklearn.feature_extraction.text import CountVectorizer\n",
    "from sklearn.linear_model import LogisticRegression\n",
    "from sklearn.metrics import accuracy_score\n",
    "from sklearn.model_selection import train_test_split\n",
    "import tensorflow as tf"
   ]
  },
  {
   "cell_type": "code",
   "execution_count": 0,
   "metadata": {
    "colab": {},
    "colab_type": "code",
    "id": "Mhyu8Z9x2Ztt"
   },
   "outputs": [],
   "source": [
    "class Training:\n",
    "    def __init__(self):\n",
    "        self.english_stop_words = stopwords.words('english')\n",
    "        self.reviews_train = []\n",
    "        self.reviews_test= []\n",
    "        self.REPLACE_NO_SPACE = re.compile(\"(\\.)|(\\;)|(\\:)|(\\!)|(\\')|(\\?)|(\\,)|(\\\")|(\\()|(\\))|(\\[)|(\\])\")\n",
    "        self.REPLACE_WITH_SPACE = re.compile(\"(<br\\s*/><br\\s*/>)|(\\-)|(\\/)\")\n",
    "    \n",
    "    def split(self):\n",
    "        print('Split')\n",
    "        with tf.device('/device:GPU:0'):\n",
    "            for a in open('/gdrive/My Drive/Colab_ML/senti/data/full_train.txt','r'):\n",
    "                self.reviews_train.append(a.strip())\n",
    "            for a in open('/gdrive/My Drive/Colab_ML/senti/data/full_test.txt','r'):\n",
    "                self.reviews_test.append(a.strip())\n",
    "\n",
    "    def remove_stop_words(self,corpus):\n",
    "        removed_stop_words = []\n",
    "        with tf.device('/device:GPU:0'):\n",
    "            for review in corpus:\n",
    "                removed_stop_words.append(\n",
    "                    ' '.join([word for word in review.split() \n",
    "                            if word not in self.english_stop_words])\n",
    "                )\n",
    "        print('Done stop words')\n",
    "        return removed_stop_words\n",
    "\n",
    "    def get_stemmed_text(self,corpus):\n",
    "        stemmer = PorterStemmer()\n",
    "        print('Done stem')\n",
    "        return [' '.join([stemmer.stem(word) for word in review.split()]) for review in corpus]\n",
    "        \n",
    "    def preprocess_reviews(self,reviews):\n",
    "        with tf.device('/device:GPU:0'):\n",
    "            reviews = [self.REPLACE_NO_SPACE.sub(\"\", line.lower()) for line in reviews]\n",
    "            reviews = [self.REPLACE_WITH_SPACE.sub(\" \", line) for line in reviews]\n",
    "            reviews = self.remove_stop_words(reviews)\n",
    "            reviews = self.get_stemmed_text(reviews)\n",
    "            print('Done preprocess')\n",
    "        return reviews\n",
    "    \n",
    "    def mainTrain(self):\n",
    "        print('Preprocess')\n",
    "        \n",
    "        reviews_train_cleaned = self.preprocess_reviews(self.reviews_train)\n",
    "        reviews_test_cleaned = self.preprocess_reviews(self.reviews_test)\n",
    "        \n",
    "        with tf.device('/device:GPU:0'):\n",
    "            ngram_vectorizer = CountVectorizer(binary=True, ngram_range=(1, 2))\n",
    "            ngram_vectorizer.fit(reviews_train_cleaned)\n",
    "            X = ngram_vectorizer.transform(reviews_train_cleaned)\n",
    "            X_val = ngram_vectorizer.transform(reviews_test_cleaned)\n",
    "            target = [1 if i < 12500 else 0 for i in range(25000)]\n",
    "            X_train,X_test,y_train,y_test = train_test_split(X,target,train_size = 0.75)\n",
    "            print('Starting training')\n",
    "            # To find c\n",
    "            '''\n",
    "            for c in [0.01,0.05,0.25,0.5,1,1.5]:\n",
    "                lr = LogisticRegression(C=c)\n",
    "                lr.fit(X_train,y_train)\n",
    "                print('Accuracy score for {}: {}'.format(c,accuracy_score(y_test,lr.predict(X_test))))\n",
    "            '''\n",
    "            c = 0.5\n",
    "            lr = LogisticRegression(C=c)\n",
    "            lr.fit(X_train,y_train)\n",
    "        print('Accuracy score for {}: {}'.format(c,accuracy_score(y_test,lr.predict(X_test))))\n",
    "        joblib.dump(lr,'model.sav')\n",
    "        print('DONE')\n"
   ]
  },
  {
   "cell_type": "code",
   "execution_count": 28,
   "metadata": {
    "colab": {
     "base_uri": "https://localhost:8080/",
     "height": 292
    },
    "colab_type": "code",
    "executionInfo": {
     "elapsed": 244288,
     "status": "ok",
     "timestamp": 1551766095820,
     "user": {
      "displayName": "Subhaditya Mukherjee",
      "photoUrl": "https://lh4.googleusercontent.com/-EOiGHS0mMdM/AAAAAAAAAAI/AAAAAAABc74/x8-bxB0NQpc/s64/photo.jpg",
      "userId": "10930596869852951720"
     },
     "user_tz": -330
    },
    "id": "3zhjNXpT2-Ul",
    "outputId": "9e25ad06-d385-4457-8b31-54fcabae9387"
   },
   "outputs": [
    {
     "name": "stdout",
     "output_type": "stream",
     "text": [
      "Split\n",
      "Preprocess\n",
      "Done stop words\n",
      "Done stem\n",
      "Done preprocess\n",
      "Done stop words\n",
      "Done stem\n",
      "Done preprocess\n"
     ]
    },
    {
     "name": "stderr",
     "output_type": "stream",
     "text": [
      "/usr/local/lib/python3.6/dist-packages/sklearn/model_selection/_split.py:2179: FutureWarning: From version 0.21, test_size will always complement train_size unless both are specified.\n",
      "  FutureWarning)\n"
     ]
    },
    {
     "name": "stdout",
     "output_type": "stream",
     "text": [
      "Starting training\n"
     ]
    },
    {
     "name": "stderr",
     "output_type": "stream",
     "text": [
      "/usr/local/lib/python3.6/dist-packages/sklearn/linear_model/logistic.py:433: FutureWarning: Default solver will be changed to 'lbfgs' in 0.22. Specify a solver to silence this warning.\n",
      "  FutureWarning)\n"
     ]
    },
    {
     "name": "stdout",
     "output_type": "stream",
     "text": [
      "Accuracy score for 0.5: 0.88064\n",
      "DONE\n"
     ]
    }
   ],
   "source": [
    "\n",
    "a = Training()\n",
    "a.split()\n",
    "a.mainTrain()"
   ]
  }
 ],
 "metadata": {
  "accelerator": "GPU",
  "colab": {
   "collapsed_sections": [],
   "name": "senti.ipynb",
   "provenance": [],
   "version": "0.3.2"
  },
  "kernelspec": {
   "display_name": "Python 3",
   "language": "python",
   "name": "python3"
  },
  "language_info": {
   "codemirror_mode": {
    "name": "ipython",
    "version": 3
   },
   "file_extension": ".py",
   "mimetype": "text/x-python",
   "name": "python",
   "nbconvert_exporter": "python",
   "pygments_lexer": "ipython3",
   "version": "3.6.5"
  }
 },
 "nbformat": 4,
 "nbformat_minor": 1
}
